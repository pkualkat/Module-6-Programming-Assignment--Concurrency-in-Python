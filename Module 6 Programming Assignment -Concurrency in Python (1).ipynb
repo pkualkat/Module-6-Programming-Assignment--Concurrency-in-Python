{
 "cells": [
  {
   "cell_type": "code",
   "execution_count": 1,
   "id": "5ab6846b-92ac-4083-974a-74ee0b83d155",
   "metadata": {},
   "outputs": [],
   "source": [
    "#13.1 create .txt file\n",
    "from datetime import date\n",
    "\n",
    "# Get today's date\n",
    "today = date.today()\n",
    "\n",
    "# Write to today.txt\n",
    "with open(\"today.txt\", \"w\") as file:\n",
    "    file.write(today.isoformat()) \n"
   ]
  },
  {
   "cell_type": "code",
   "execution_count": 3,
   "id": "8453dbb0-6f7f-4f11-ba58-ecda634cceb3",
   "metadata": {},
   "outputs": [],
   "source": [
    "# 13.2 Read The Date\n",
    "# Read the date string from the file\n",
    "with open(\"today.txt\", \"r\") as file:\n",
    "    today_string = file.read().strip()\n"
   ]
  },
  {
   "cell_type": "code",
   "execution_count": 4,
   "id": "eff5b863-8281-440c-b40e-d67ee313fa07",
   "metadata": {},
   "outputs": [
    {
     "name": "stdout",
     "output_type": "stream",
     "text": [
      "Parsed date: 2025-10-05\n"
     ]
    }
   ],
   "source": [
    "# 13.3 Print the date\n",
    "from datetime import datetime\n",
    "\n",
    "# Convert the string to a date object\n",
    "parsed_date = datetime.strptime(today_string, \"%Y-%m-%d\").date()\n",
    "\n",
    "print(\"Parsed date:\", parsed_date)\n"
   ]
  },
  {
   "cell_type": "code",
   "execution_count": 8,
   "id": "5ca15334-694f-47e3-938e-523fdcd9dcb9",
   "metadata": {},
   "outputs": [],
   "source": [
    "# 15.1 multiprocessing\n",
    "import multiprocessing\n",
    "import time\n",
    "import random\n",
    "from datetime import datetime\n",
    "\n",
    "def worker(n):\n",
    "    delay = random.uniform(0, 1)\n",
    "    time.sleep(delay)\n",
    "    print(f\"Process {n} finished at {datetime.now().strftime('%H:%M:%S.%f')[:-3]} after {delay:.3f} seconds\")\n",
    "\n",
    "if __name__ == \"__main__\":\n",
    "    processes = []\n",
    "    for i in range(3):\n",
    "        p = multiprocessing.Process(target=worker, args=(i,))\n",
    "        processes.append(p)\n",
    "        p.start()\n",
    "\n",
    "    for p in processes:\n",
    "        p.join()\n",
    "\n"
   ]
  },
  {
   "cell_type": "code",
   "execution_count": null,
   "id": "a64ded7e-2142-45cf-b09d-abbe7a4236a8",
   "metadata": {},
   "outputs": [],
   "source": []
  }
 ],
 "metadata": {
  "kernelspec": {
   "display_name": "Python [conda env:base] *",
   "language": "python",
   "name": "conda-base-py"
  },
  "language_info": {
   "codemirror_mode": {
    "name": "ipython",
    "version": 3
   },
   "file_extension": ".py",
   "mimetype": "text/x-python",
   "name": "python",
   "nbconvert_exporter": "python",
   "pygments_lexer": "ipython3",
   "version": "3.13.5"
  }
 },
 "nbformat": 4,
 "nbformat_minor": 5
}
