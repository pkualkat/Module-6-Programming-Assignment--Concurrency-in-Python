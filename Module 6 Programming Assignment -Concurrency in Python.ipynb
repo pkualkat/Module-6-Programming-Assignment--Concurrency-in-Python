{
 "cells": [
  {
   "cell_type": "code",
   "execution_count": 1,
   "id": "9006fad7-e4de-440a-b677-b6ca609d03ed",
   "metadata": {},
   "outputs": [],
   "source": [
    "# 13.1Script for Date and time \n",
    "from datetime import date\n",
    "\n",
    "# today's date\n",
    "today = date.today()\n",
    "\n",
    "# Write to file\n",
    "with open(\"today.txt\", \"w\") as file:\n",
    "    file.write(today.isoformat())  # Format: YYYY-MM-DD\n"
   ]
  },
  {
   "cell_type": "code",
   "execution_count": 2,
   "id": "e0a52839-f0bc-4ea7-a783-e3bce02960a1",
   "metadata": {},
   "outputs": [],
   "source": [
    "# Read  file\n",
    "with open(\"today.txt\", \"r\") as file:\n",
    "    today_string = file.read()\n"
   ]
  },
  {
   "cell_type": "code",
   "execution_count": 3,
   "id": "78d452e3-aee7-4a8e-a714-43abc869574e",
   "metadata": {},
   "outputs": [],
   "source": [
    "# 13.3 module to print date and time \n",
    "from datetime import datetime\n",
    "\n",
    "# Parse the string into a date object\n",
    "parsed_date = datetime.strptime(today_string, \"%Y-%m-%d\").date()\n"
   ]
  },
  {
   "cell_type": "code",
   "execution_count": 4,
   "id": "2138719d-4b0f-40c0-a32b-e1257143242a",
   "metadata": {},
   "outputs": [],
   "source": [
    "# 15.1 Mutlti processing\n",
    "import multiprocessing\n",
    "import time\n",
    "import random\n",
    "from datetime import datetime\n",
    "\n",
    "def worker(process_id):\n",
    "    wait_time = random.uniform(0, 1)\n",
    "    time.sleep(wait_time)\n",
    "    print(f\"Process {process_id} finished at {datetime.now().strftime('%H:%M:%S.%f')} after waiting {wait_time:.3f} seconds\")\n",
    "\n",
    "if __name__ == \"__main__\":\n",
    "    processes = []\n",
    "    for i in range(3):\n",
    "        p = multiprocessing.Process(target=worker, args=(i+1,))\n",
    "        processes.append(p)\n",
    "        p.start()\n",
    "\n",
    "    for p in processes:\n",
    "        p.join()\n"
   ]
  },
  {
   "cell_type": "code",
   "execution_count": null,
   "id": "5ab6846b-92ac-4083-974a-74ee0b83d155",
   "metadata": {},
   "outputs": [],
   "source": []
  }
 ],
 "metadata": {
  "kernelspec": {
   "display_name": "Python [conda env:base] *",
   "language": "python",
   "name": "conda-base-py"
  },
  "language_info": {
   "codemirror_mode": {
    "name": "ipython",
    "version": 3
   },
   "file_extension": ".py",
   "mimetype": "text/x-python",
   "name": "python",
   "nbconvert_exporter": "python",
   "pygments_lexer": "ipython3",
   "version": "3.13.5"
  }
 },
 "nbformat": 4,
 "nbformat_minor": 5
}
